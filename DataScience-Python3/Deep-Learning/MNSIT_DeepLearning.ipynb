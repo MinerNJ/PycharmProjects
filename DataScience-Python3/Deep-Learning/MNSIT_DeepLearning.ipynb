{
 "cells": [
  {
   "cell_type": "code",
   "execution_count": 60,
   "metadata": {
    "collapsed": true,
    "deletable": true,
    "editable": true
   },
   "outputs": [],
   "source": [
    "#Import Keras and MNIST, as well as packages necessary for deep learning.\n",
    "\n",
    "from tensorflow import keras\n",
    "from tensorflow.keras.datasets import mnist\n",
    "from tensorflow.keras.models import Sequential\n",
    "from tensorflow.keras.layers import Dense, Dropout\n",
    "from tensorflow.keras.optimizers import SGD"
   ]
  },
  {
   "cell_type": "code",
   "execution_count": 52,
   "metadata": {
    "collapsed": true,
    "deletable": true,
    "editable": true
   },
   "outputs": [],
   "source": [
    "#Keras comes preloaded with a MNIST dataset containing 60k training and 10k test images of handwriting samples.\n",
    "\n",
    "(mnist_train_images, mnist_train_labels), (mnist_test_images, mnist_test_labels) = mnist.load_data()"
   ]
  },
  {
   "cell_type": "code",
   "execution_count": 53,
   "metadata": {
    "collapsed": true,
    "deletable": true,
    "editable": true
   },
   "outputs": [],
   "source": [
    "#Data manipulation. The images are reshaped from their individual 784 images into a tensor, where the values are \n",
    "#converted into floats. Finally the values in the tensor are divided by 255 so that all of the images are normalized\n",
    "#into 0 - 1 range.\n",
    "\n",
    "train_images = mnist_train_images.reshape(60000, 784)\n",
    "test_images = mnist_test_images.reshape(10000, 784)\n",
    "train_images = train_images.astype('float32')\n",
    "test_images = test_images.astype('float32')\n",
    "train_images /= 255\n",
    "test_images /= 255"
   ]
  },
  {
   "cell_type": "code",
   "execution_count": 54,
   "metadata": {
    "collapsed": true,
    "deletable": true,
    "editable": true
   },
   "outputs": [],
   "source": [
    "#Reformatting the categories from the dataset into \"one-hot\" format: each singular category is transformed into a binary array\n",
    "#ranging from 0 - 9 so Keras can assign the image data accordingly. \n",
    "\n",
    "train_labels = keras.utils.to_categorical(mnist_train_labels, 10)\n",
    "test_labels = keras.utils.to_categorical(mnist_test_labels, 10)"
   ]
  },
  {
   "cell_type": "code",
   "execution_count": 55,
   "metadata": {
    "collapsed": false,
    "deletable": true,
    "editable": true
   },
   "outputs": [
    {
     "name": "stdout",
     "output_type": "stream",
     "text": [
      "[0. 0. 0. 0. 0. 0. 1. 0. 0. 0.]\n"
     ]
    },
    {
     "data": {
      "image/png": "[encoded data removed]",
      "text/plain": [
       "<matplotlib.figure.Figure at 0x1ab0340e898>"
      ]
     },
     "metadata": {},
     "output_type": "display_data"
    }
   ],
   "source": [
    "#a function for plotting a singular number as one-hot array from the above manipulation. create the label as a number on the\n",
    "#X-axis, create an image from the chosen number reshaped into a normal image size, create the title of the number and its label, \n",
    "#and finally plot it all as grey scale. \n",
    "\n",
    "import matplotlib.pyplot as plt\n",
    "\n",
    "def sample_num(num):\n",
    "    print(train_labels[num])  \n",
    "    label = train_labels[num].argmax(axis=0)\n",
    "    image = train_images[num].reshape([28,28])\n",
    "    plt.title('Sample: %d  Label: %d' % (num, label))\n",
    "    plt.imshow(image, cmap=plt.get_cmap('gray_r'))\n",
    "    plt.show()\n",
    "    \n",
    "sample_num(1990)"
   ]
  },
  {
   "cell_type": "code",
   "execution_count": 56,
   "metadata": {
    "collapsed": true,
    "deletable": true,
    "editable": true
   },
   "outputs": [],
   "source": [
    "#Creating the model! The Sequential model dictates it will be a linear layering of the nodes. The first layer takes the total\n",
    "#number of images (784) and passes them to the next hidden layer of nodes (totalling 532) with the RELU activation method. The\n",
    "#images then pass into the output layer of 10 nodes activated by Softmax. The second layer node amount was chosen because it is\n",
    "#two-thirds the input node amount, plus the output node amount. The output node amount is 10 because of the original 10 \n",
    "#categories in the data (handwriting samples of numbers ranging 0 - 9).\n",
    "\n",
    "model = Sequential()\n",
    "model.add(Dense(532, activation='relu', input_shape=(784,)))\n",
    "model.add(Dense(10, activation='softmax'))"
   ]
  },
  {
   "cell_type": "code",
   "execution_count": 61,
   "metadata": {
    "collapsed": false,
    "deletable": true,
    "editable": true
   },
   "outputs": [],
   "source": [
    "#Compiling the model. Assigning the Categorical Crossentropy loss function, the Stochiastic Gradient Descent optimization method\n",
    "#and telling the model to judge the acuracy of its predictions.\n",
    "\n",
    "model.compile(loss='categorical_crossentropy',\n",
    "              optimizer=SGD(),\n",
    "              metrics=['accuracy'])"
   ]
  },
  {
   "cell_type": "code",
   "execution_count": 66,
   "metadata": {
    "collapsed": false,
    "deletable": true,
    "editable": true
   },
   "outputs": [
    {
     "name": "stdout",
     "output_type": "stream",
     "text": [
      "Train on 60000 samples, validate on 10000 samples\n",
      "Epoch 1/10\n",
      "60000/60000 - 1s - loss: 0.0037 - accuracy: 0.9993 - val_loss: 0.0683 - val_accuracy: 0.9824\n",
      "Epoch 2/10\n",
      "60000/60000 - 1s - loss: 0.0037 - accuracy: 0.9993 - val_loss: 0.0683 - val_accuracy: 0.9824\n",
      "Epoch 3/10\n",
      "60000/60000 - 1s - loss: 0.0036 - accuracy: 0.9993 - val_loss: 0.0683 - val_accuracy: 0.9824\n",
      "Epoch 4/10\n",
      "60000/60000 - 1s - loss: 0.0036 - accuracy: 0.9993 - val_loss: 0.0683 - val_accuracy: 0.9824\n",
      "Epoch 5/10\n",
      "60000/60000 - 1s - loss: 0.0036 - accuracy: 0.9994 - val_loss: 0.0683 - val_accuracy: 0.9824\n",
      "Epoch 6/10\n",
      "60000/60000 - 1s - loss: 0.0036 - accuracy: 0.9994 - val_loss: 0.0683 - val_accuracy: 0.9824\n",
      "Epoch 7/10\n",
      "60000/60000 - 1s - loss: 0.0036 - accuracy: 0.9994 - val_loss: 0.0683 - val_accuracy: 0.9824\n",
      "Epoch 8/10\n",
      "60000/60000 - 1s - loss: 0.0036 - accuracy: 0.9994 - val_loss: 0.0682 - val_accuracy: 0.9824\n",
      "Epoch 9/10\n",
      "60000/60000 - 1s - loss: 0.0036 - accuracy: 0.9994 - val_loss: 0.0682 - val_accuracy: 0.9824\n",
      "Epoch 10/10\n",
      "60000/60000 - 1s - loss: 0.0036 - accuracy: 0.9994 - val_loss: 0.0682 - val_accuracy: 0.9824\n"
     ]
    }
   ],
   "source": [
    "#Fitting the model to training images and labels. The model selects 1000 random images from 10 epochs (chosen for the 10 original\n",
    "#categories) and validates its predictions on the testing images and labels.\n",
    "\n",
    "history = model.fit(train_images, train_labels,\n",
    "                    batch_size=1000,\n",
    "                    epochs=10,\n",
    "                    verbose=2,\n",
    "                    validation_data=(test_images, test_labels))"
   ]
  },
  {
   "cell_type": "code",
   "execution_count": 67,
   "metadata": {
    "collapsed": false,
    "deletable": true,
    "editable": true
   },
   "outputs": [
    {
     "name": "stdout",
     "output_type": "stream",
     "text": [
      "Test Data loss: 0.06822894018442767\n",
      "Test Data accuracy: 0.9824\n"
     ]
    }
   ],
   "source": [
    "#Using Sckit to evaluate the model on test data\n",
    "score = model.evaluate(test_images, test_labels, verbose=0)\n",
    "print('Test Data loss:', score[0])\n",
    "print('Test Data accuracy:', score[1])"
   ]
  },
  {
   "cell_type": "code",
   "execution_count": null,
   "metadata": {
    "collapsed": false,
    "deletable": true,
    "editable": true
   },
   "outputs": [],
   "source": [
    "#Displaying some of the numbers the model predicted incorrectly.\n",
    "\n",
    "for x in range(10):\n",
    "    test_image = test_images[x,:].reshape(1,784)\n",
    "    predicted_cat = model.predict(test_image).argmax()\n",
    "    label = test_labels[x].argmax()\n",
    "    if (predicted_cat != label):\n",
    "        plt.title('Prediction: %d Label: %d' % (predicted_cat, label))\n",
    "        plt.imshow(test_image.reshape([28,28]), cmap=plt.get_cmap('gray_r'))\n",
    "        plt.show()"
   ]
  },
  {
   "cell_type": "code",
   "execution_count": null,
   "metadata": {
    "collapsed": true
   },
   "outputs": [],
   "source": []
  }
 ],
 "metadata": {
  "kernelspec": {
   "display_name": "Python 3",
   "language": "python",
   "name": "python3"
  },
  "language_info": {
   "codemirror_mode": {
    "name": "ipython",
    "version": 3
   },
   "file_extension": ".py",
   "mimetype": "text/x-python",
   "name": "python",
   "nbconvert_exporter": "python",
   "pygments_lexer": "ipython3",
   "version": "3.5.2"
  }
 },
 "nbformat": 4,
 "nbformat_minor": 2
}
